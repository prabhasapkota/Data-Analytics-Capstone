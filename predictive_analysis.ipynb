{
 "cells": [
  {
   "cell_type": "markdown",
   "id": "d45f6414-ce3e-42c6-8648-77794135ea8b",
   "metadata": {},
   "source": [
    "# Step 1: Load and Inspect the Data"
   ]
  },
  {
   "cell_type": "code",
   "execution_count": null,
   "id": "2702f25b-9777-4779-a364-1b8d61d923db",
   "metadata": {},
   "outputs": [
    {
     "name": "stdout",
     "output_type": "stream",
     "text": [
      "<class 'pandas.core.frame.DataFrame'>\n",
      "RangeIndex: 234533 entries, 0 to 234532\n",
      "Data columns (total 8 columns):\n",
      " #   Column           Non-Null Count   Dtype  \n",
      "---  ------           --------------   -----  \n",
      " 0   country_or_area  234533 non-null  object \n",
      " 1   element_code     234533 non-null  int64  \n",
      " 2   element          234533 non-null  object \n",
      " 3   year             234533 non-null  int64  \n",
      " 4   unit             234533 non-null  object \n",
      " 5   value            234533 non-null  float64\n",
      " 6   value_footnotes  234533 non-null  object \n",
      " 7   category         234533 non-null  object \n",
      "dtypes: float64(1), int64(2), object(5)\n",
      "memory usage: 14.3+ MB\n",
      "None\n",
      "<class 'pandas.core.frame.DataFrame'>\n",
      "RangeIndex: 104659 entries, 0 to 104658\n",
      "Data columns (total 8 columns):\n",
      " #   Column           Non-Null Count   Dtype  \n",
      "---  ------           --------------   -----  \n",
      " 0   country_or_area  104659 non-null  object \n",
      " 1   element_code     104659 non-null  int64  \n",
      " 2   element          104659 non-null  object \n",
      " 3   year             104659 non-null  int64  \n",
      " 4   unit             104659 non-null  object \n",
      " 5   value            104659 non-null  float64\n",
      " 6   value_footnotes  104658 non-null  object \n",
      " 7   category         104659 non-null  object \n",
      "dtypes: float64(1), int64(2), object(5)\n",
      "memory usage: 6.4+ MB\n",
      "None\n",
      "<class 'pandas.core.frame.DataFrame'>\n",
      "RangeIndex: 102124 entries, 0 to 102123\n",
      "Data columns (total 8 columns):\n",
      " #   Column           Non-Null Count   Dtype  \n",
      "---  ------           --------------   -----  \n",
      " 0   country_or_area  102124 non-null  object \n",
      " 1   element_code     102124 non-null  int64  \n",
      " 2   element          102124 non-null  object \n",
      " 3   year             102124 non-null  int64  \n",
      " 4   unit             102124 non-null  object \n",
      " 5   value            102124 non-null  float64\n",
      " 6   value_footnotes  57582 non-null   object \n",
      " 7   category         102124 non-null  object \n",
      "dtypes: float64(1), int64(2), object(5)\n",
      "memory usage: 6.2+ MB\n",
      "None\n"
     ]
    }
   ],
   "source": [
    "import pandas as pd\n",
    "\n",
    "# Load datasets\n",
    "production_df = pd.read_csv('cleaned_fao_data_production_indices_data.csv')\n",
    "land_df = pd.read_csv('cleaned_fao_data_land_data.csv')\n",
    "fertilizer_df = pd.read_csv('cleaned_fao_data_fertilizers_data.csv')\n",
    "\n",
    "# Inspect the structure of each dataset\n",
    "print(production_df.info())\n",
    "print(land_df.info())\n",
    "print(fertilizer_df.info())"
   ]
  },
  {
   "cell_type": "markdown",
   "id": "d72f2fcb-9c06-4622-b746-797e66d17c77",
   "metadata": {},
   "source": [
    "# Step 2: Merge Datasets"
   ]
  },
  {
   "cell_type": "code",

   "execution_count": 1,
>>>>>>> 2575c78e00e7227e6ffe0423b304d257a9bc6937
   "id": "911476cc-d717-4328-b978-fc52b9194b8d",
   "metadata": {},
   "outputs": [
    {
     "name": "stdout",
     "output_type": "stream",
     "text": [
      "Merged Dataset Columns:\n",
      "Index(['country_or_area', 'year', 'value_prod', 'value_land', 'value_fert'], dtype='object')\n",
      "\n",
      "Preview of Merged Dataset:\n",
      "  country_or_area  year  value_prod  value_land  value_fert\n",
      "0     Afghanistan  2007   2486910.0     38661.0    920000.0\n",
      "1     Afghanistan  2007   2486910.0     38661.0    186000.0\n",
      "2     Afghanistan  2007   2486910.0     38661.0   4357000.0\n",
      "3     Afghanistan  2007   2486910.0     38661.0      9035.0\n",
      "4     Afghanistan  2007   2486910.0     38661.0   5387000.0\n",
      "\n",
      "Dataset saved as a plain CSV file: merged_fao_data.csv\n"
     ]
    }
   ],
   "source": [
    "import pandas as pd\n",
    "\n",
    "# Load datasets\n",
    "production_df = pd.read_csv('cleaned_fao_data_production_indices_data.csv')\n",
    "land_df = pd.read_csv('cleaned_fao_data_land_data.csv')\n",
    "fertilizer_df = pd.read_csv('cleaned_fao_data_fertilizers_data.csv')\n",
    "\n",
    "# Select only the important columns\n",
    "production_columns = ['country_or_area', 'year', 'value']  # Add other necessary columns if needed\n",
    "land_columns = ['country_or_area', 'year', 'value']  # Adjust based on the important columns for land data\n",
    "fertilizer_columns = ['country_or_area', 'year', 'value']  # Adjust based on the important columns for fertilizer data\n",
    "\n",
    "# Rename 'value' columns for clarity before merging\n",
    "production_df = production_df[production_columns].rename(columns={'value': 'value_prod'})\n",
    "land_df = land_df[land_columns].rename(columns={'value': 'value_land'})\n",
    "fertilizer_df = fertilizer_df[fertilizer_columns].rename(columns={'value': 'value_fert'})\n",
    "\n",
    "# Merge datasets on common columns (country_or_area and year)\n",
    "merged_df = production_df.merge(land_df, on=['country_or_area', 'year'])\n",
    "merged_df = merged_df.merge(fertilizer_df, on=['country_or_area', 'year'])\n",
    "\n",
    "# Inspect the merged dataset\n",
    "print(\"Merged Dataset Columns:\")\n",
    "print(merged_df.columns)\n",
    "\n",
    "print(\"\\nPreview of Merged Dataset:\")\n",

    "print(merged_df.head())"
>>>>>>> 2575c78e00e7227e6ffe0423b304d257a9bc6937
   ]
  },
  {
   "cell_type": "markdown",
   "id": "b737ea42-f8a0-4330-b7ac-4baef541e483",
   "metadata": {},
   "source": [
    "# Step 3: Feature Engineering \n",
    "Lagged Features: Added lagged variables for value_prod (production indices) to capture temporal trends.\n",
    "Interaction Features: Combined land use and fertilizer usage as interaction terms.\n"
   ]
  },
  {
   "cell_type": "code",
   "execution_count": 2,
   "id": "893e235f",
   "metadata": {
    "scrolled": true
   },
   "outputs": [
    {
     "name": "stdout",
     "output_type": "stream",
     "text": [
      "Enhanced Dataset Columns:\n",
      "Index(['country_or_area', 'year', 'value_prod', 'value_land', 'value_fert',\n",
      "       'value_prod_lag1', 'land_fert_interaction', 'fertilizer_efficiency',\n",
      "       'land_productivity', 'prod_yoy_change', 'normalized_fert',\n",
      "       'normalized_land'],\n",
      "      dtype='object')\n",
      "\n",
      "Preview of Enhanced Dataset:\n",
      "  country_or_area  year  value_prod  value_land  value_fert  value_prod_lag1  \\\n",
      "1     Afghanistan  2007   2486910.0     38661.0    186000.0        2486910.0   \n",
      "2     Afghanistan  2007   2486910.0     38661.0   4357000.0        2486910.0   \n",
      "3     Afghanistan  2007   2486910.0     38661.0      9035.0        2486910.0   \n",
      "4     Afghanistan  2007   2486910.0     38661.0   5387000.0        2486910.0   \n",
      "5     Afghanistan  2007   2486910.0     38661.0    145000.0        2486910.0   \n",
      "\n",
      "   land_fert_interaction  fertilizer_efficiency  land_productivity  \\\n",
      "1           7.190946e+09              13.370484          64.326065   \n",
      "2           1.684460e+11               0.570785          64.326065   \n",
      "3           3.493021e+08             275.252905          64.326065   \n",
      "4           2.082668e+11               0.461650          64.326065   \n",
      "5           5.605845e+09              17.151103          64.326065   \n",
      "\n",
      "   prod_yoy_change  normalized_fert  normalized_land  \n",
      "1              0.0     1.001937e-09     1.370546e-08  \n",
      "2              0.0     2.347010e-08     1.370546e-08  \n",
      "3              0.0     4.866934e-11     1.370546e-08  \n",
      "4              0.0     2.901846e-08     1.370546e-08  \n",
      "5              0.0     7.810797e-10     1.370546e-08  \n"
     ]
    }
   ],
   "source": [
    "\n",
    "import pandas as pd\n",
    "\n",
    "#  'merged_df' is the merged dataset containing:\n",
    "# 'country_or_area', 'year', 'value_prod', 'value_land', 'value_fert'\n",
    "\n",
    "# 1. Lagged Features: Previous year's productivity\n",
    "merged_df['value_prod_lag1'] = merged_df.groupby('country_or_area')['value_prod'].shift(1)\n",
    "\n",
    "# 2. Interaction Term: Combined effect of land and fertilizer\n",
    "merged_df['land_fert_interaction'] = merged_df['value_land'] * merged_df['value_fert']\n",
    "\n",
    "# 3. Fertilizer Efficiency: Productivity per unit of fertilizer\n",
    "merged_df['fertilizer_efficiency'] = merged_df['value_prod'] / merged_df['value_fert']\n",
    "\n",
    "# 4. Land Productivity: Productivity per unit of land\n",
    "merged_df['land_productivity'] = merged_df['value_prod'] / merged_df['value_land']\n",
    "\n",
    "# 5. Year-on-Year Change in Productivity\n",
    "merged_df['prod_yoy_change'] = merged_df.groupby('country_or_area')['value_prod'].pct_change()\n",
    "\n",
    "# 6. Normalized Fertilizer Use: Fertilizer use as a proportion of total fertilizer use across all countries\n",
    "merged_df['normalized_fert'] = merged_df['value_fert'] / merged_df['value_fert'].sum()\n",
    "\n",
    "# 7. Normalized Land Use: Land use as a proportion of total land use across all countries\n",
    "merged_df['normalized_land'] = merged_df['value_land'] / merged_df['value_land'].sum()\n",
    "\n",
    "# Drop rows with NaNs introduced by lagging or percentage changes\n",
    "merged_df.dropna(inplace=True)\n",
    "\n",
    "# Preview the enhanced dataset\n",
    "print(\"Enhanced Dataset Columns:\")\n",
    "print(merged_df.columns)\n",
    "\n",
    "print(\"\\nPreview of Enhanced Dataset:\")\n",
    "print(merged_df.head())"
   ]
  },
  {
   "cell_type": "markdown",
   "id": "bd5148a6-ca1b-4245-a3f1-79ad7626dbd6",
   "metadata": {},
   "source": [
    "## Train-Test split"
   ]
  },
  {
   "cell_type": "markdown",
   "id": "6920c0e2-1866-4496-8c0c-06b449aa8c02",
   "metadata": {},
   "source": [
    "## Train Predictive Models\n",
    "Train machine learning models for each goal."
   ]
  },
  {
   "cell_type": "code",
   "execution_count": 3,
   "id": "e676e194",
   "metadata": {},
   "outputs": [
    {
     "name": "stdout",
     "output_type": "stream",
     "text": [
      "Index(['country_or_area', 'year', 'value_prod', 'value_land', 'value_fert',\n",
      "       'value_prod_lag1', 'land_fert_interaction', 'fertilizer_efficiency',\n",
      "       'land_productivity', 'prod_yoy_change', 'normalized_fert',\n",
      "       'normalized_land'],\n",
      "      dtype='object')\n"
     ]
    }
   ],
   "source": [
    "# Check columns in the enhanced dataset\n",
    "print(merged_df.columns)"
   ]
  },
  {
   "cell_type": "code",
   "execution_count": 5,
   "id": "94755a6f",
   "metadata": {},
   "outputs": [
    {
     "name": "stdout",
     "output_type": "stream",
     "text": [
      "Training set features: (17221405, 9)\n",
      "Testing set features: (4305352, 9)\n",
      "Training set target: (17221405,)\n",
      "Testing set target: (4305352,)\n"
     ]
    }
   ],
   "source": [
    "from sklearn.model_selection import train_test_split\n",
    "\n",
    "# Step 1: Define features (X) and target (y)\n",
    "X = merged_df[['value_land', 'value_fert', 'value_prod_lag1', 'land_fert_interaction', \n",
    "               'fertilizer_efficiency', 'land_productivity', 'prod_yoy_change', \n",
    "               'normalized_fert', 'normalized_land']]  # Your engineered features\n",
    "y = merged_df['value_prod']  # Your target variable (productivity)\n",
    "\n",
    "# Step 2: Train-test split (80% training, 20% testing)\n",
    "X_train, X_test, y_train, y_test = train_test_split(X, y, test_size=0.2, random_state=42)\n",
    "\n",
    "# Print the shape of the resulting datasets to verify the split\n",
    "print(f\"Training set features: {X_train.shape}\")\n",
    "print(f\"Testing set features: {X_test.shape}\")\n",
    "print(f\"Training set target: {y_train.shape}\")\n",
    "print(f\"Testing set target: {y_test.shape}\")"
   ]
  },
  {
   "cell_type": "markdown",
   "id": "876b095d-ac31-4ae2-b14c-bef04848fda0",
   "metadata": {},
   "source": [
    "## Goal 1: Optimize Farm Input Usage\n",
    "Use a regression model to predict productivity based on fertilizer and land use."
   ]
  },
  {
   "cell_type": "markdown",
   "id": "5d6d31b3",
   "metadata": {},
   "source": [
    "### 1. Check for NaN or infinite values"
   ]
  },
  {
   "cell_type": "code",
   "execution_count": 7,
   "id": "3850a523",
   "metadata": {},
   "outputs": [
    {
     "name": "stdout",
     "output_type": "stream",
     "text": [
      "Checking for NaNs in the training features:\n",
      "value_land               0\n",
      "value_fert               0\n",
      "value_prod_lag1          0\n",
      "land_fert_interaction    0\n",
      "fertilizer_efficiency    0\n",
      "land_productivity        0\n",
      "prod_yoy_change          0\n",
      "normalized_fert          0\n",
      "normalized_land          0\n",
      "dtype: int64\n",
      "value_land                    0\n",
      "value_fert                    0\n",
      "value_prod_lag1               0\n",
      "land_fert_interaction         0\n",
      "fertilizer_efficiency    484344\n",
      "land_productivity          7348\n",
      "prod_yoy_change             248\n",
      "normalized_fert               0\n",
      "normalized_land               0\n",
      "dtype: int64\n",
      "Checking for NaNs in the target:\n",
      "0\n",
      "0\n"
     ]
    }
   ],
   "source": [
    "import numpy as np\n",
    "# Check for NaN or infinite values in the training set\n",
    "print(\"Checking for NaNs in the training features:\")\n",
    "print(X_train.isna().sum())  # To check for NaNs in features\n",
    "print(np.isinf(X_train).sum())  # To check for infinite values in features\n",
    "\n",
    "# Check target variable for NaN or infinite values\n",
    "print(\"Checking for NaNs in the target:\")\n",
    "print(y_train.isna().sum())  # To check for NaNs in target\n",
    "print(np.isinf(y_train).sum())  # To check for infinite values in target"
   ]
  },
  {
   "cell_type": "markdown",
   "id": "9f7428b5",
   "metadata": {},
   "source": [
    "### 2. Fill NaNs with the median value of each column"
   ]
  },
  {
   "cell_type": "code",
   "execution_count": 9,
   "id": "dfd668d9-1b8f-4032-9b04-791d43afcf14",
   "metadata": {},
   "outputs": [
    {
     "name": "stdout",
     "output_type": "stream",
     "text": [
      "NaN values after imputation:\n",
      "value_land               0\n",
      "value_fert               0\n",
      "value_prod_lag1          0\n",
      "land_fert_interaction    0\n",
      "dtype: int64\n",
      "value_land               0\n",
      "value_fert               0\n",
      "value_prod_lag1          0\n",
      "land_fert_interaction    0\n",
      "dtype: int64\n"
     ]
    }
   ],
   "source": [
    "\n",
    "from sklearn.model_selection import train_test_split\n",
    "from sklearn.preprocessing import StandardScaler\n",
    "\n",
    "# Assuming 'merged_df' is your dataset with relevant features and target\n",
    "features = ['value_land', 'value_fert', 'value_prod_lag1', 'land_fert_interaction']\n",
    "target = 'value_prod'\n",
    "\n",
    "# Step 1: Define features and target\n",
    "X = merged_df[features]\n",
    "y = merged_df[target]\n",
    "\n",
    "# Step 2: Perform train-test split\n",
    "X_train, X_test, y_train, y_test = train_test_split(X, y, test_size=0.2, random_state=42)\n",
    "\n",
    "# Step 3: Fill NaNs with the median value of each column\n",
    "X_train.fillna(X_train.median(), inplace=True)\n",
    "\n",
    "# Optionally, fill NaNs in the test set too\n",
    "X_test.fillna(X_test.median(), inplace=True)\n",
    "\n",
    "# Verify that there are no more NaNs\n",
    "print(\"NaN values after imputation:\")\n",
    "print(X_train.isna().sum())\n",
    "print(X_test.isna().sum())\n"
   ]
  },
  {
   "cell_type": "markdown",
   "id": "b64523e6",
   "metadata": {},
   "source": [
    "###  3. Clip the values to a reasonable range, e.g., between -1e6 and 1e6"
   ]
  },
  {
   "cell_type": "code",
   "execution_count": 10,
   "id": "55b2a4e2",
   "metadata": {},
   "outputs": [],
   "source": [
    "# Clip the values to a reasonable range, e.g., between -1e6 and 1e6\n",
    "X_train = X_train.clip(-1e6, 1e6)\n",
    "X_test = X_test.clip(-1e6, 1e6)\n"
   ]
  },
  {
   "cell_type": "markdown",
   "id": "23ebbc9e",
   "metadata": {},
   "source": [
    "### 4. Check for Large Numerical Values"
   ]
  },
  {
   "cell_type": "code",
   "execution_count": 11,
   "id": "2e5c1b5f",
   "metadata": {},
   "outputs": [],
   "source": [
    "from sklearn.preprocessing import StandardScaler\n",
    "\n",
    "# Initialize the scaler\n",
    "scaler = StandardScaler()\n",
    "\n",
    "# Fit and transform the training data\n",
    "X_train_scaled = scaler.fit_transform(X_train)\n",
    "\n",
    "# Transform the test data using the same scaler\n",
    "X_test_scaled = scaler.transform(X_test)\n"
   ]
  },
  {
   "cell_type": "markdown",
   "id": "1081b22e",
   "metadata": {},
   "source": [
    "### 5. Train the model for Goal 1"
   ]
  },
  {
   "cell_type": "code",
   "execution_count": 13,
   "id": "341af332",
   "metadata": {},
   "outputs": [
    {
     "name": "stdout",
     "output_type": "stream",
     "text": [
      "Standardization complete. Features are now scaled for consistent analysis.\n"
     ]
    }
   ],
   "source": [
    "from sklearn.model_selection import train_test_split\n",
    "from sklearn.preprocessing import StandardScaler\n",
    "\n",
    "# Define features and target for regression\n",
    "features = ['value_land', 'value_fert', 'value_prod_lag1', 'land_fert_interaction']\n",
    "target = 'value_prod'\n",
    "\n",
    "# Split the dataset into training and testing sets\n",
    "X = merged_df[features]\n",
    "y = merged_df[target]\n",
    "X_train, X_test, y_train, y_test = train_test_split(X, y, test_size=0.2, random_state=42)\n",
    "\n",
    "# Standardize the features\n",
    "scaler = StandardScaler()\n",
    "X_train_scaled = scaler.fit_transform(X_train)  # Fit and transform the training data\n",
    "X_test_scaled = scaler.transform(X_test)       # Transform the test data\n",
    "\n",
    "print(\"Standardization complete. Features are now scaled for consistent analysis.\")"
   ]
  },
  {
   "cell_type": "code",
   "execution_count": 15,
   "id": "0f544760",
   "metadata": {},
   "outputs": [
    {
     "name": "stdout",
     "output_type": "stream",
     "text": [
      "Mean Absolute Error (MAE): 102387.80\n",
      "R-squared (R²): 0.99\n"
     ]
    }
   ],
   "source": [
    "from sklearn.linear_model import LinearRegression\n",
    "from sklearn.metrics import mean_absolute_error, r2_score\n",
    "from sklearn.preprocessing import StandardScaler\n",
    "from sklearn.model_selection import train_test_split\n",
    "\n",
    "# Assuming 'merged_df' is already defined and contains the relevant columns\n",
    "\n",
    "# Define features and target\n",
    "features = ['value_land', 'value_fert', 'value_prod_lag1', 'land_fert_interaction']\n",
    "target = 'value_prod'\n",
    "\n",
    "# Step 1: Split the dataset into training and testing sets\n",
    "X = merged_df[features]\n",
    "y = merged_df[target]\n",
    "X_train, X_test, y_train, y_test = train_test_split(X, y, test_size=0.2, random_state=42)\n",
    "\n",
    "# Step 2: Standardize the features\n",
    "scaler = StandardScaler()\n",
    "X_train_scaled = scaler.fit_transform(X_train)\n",
    "X_test_scaled = scaler.transform(X_test)\n",
    "\n",
    "# Step 3: Train the Linear Regression model\n",
    "regressor = LinearRegression()\n",
    "regressor.fit(X_train_scaled, y_train)\n",
    "\n",
    "# Step 4: Predict on the test set\n",
    "y_pred = regressor.predict(X_test_scaled)\n",
    "\n",
    "# Step 5: Evaluate the model\n",
    "mae = mean_absolute_error(y_test, y_pred)\n",
    "r2 = r2_score(y_test, y_pred)\n",
    "\n",
    "# Step 6: Print the evaluation metrics\n",
    "print(f\"Mean Absolute Error (MAE): {mae:.2f}\")\n",
    "print(f\"R-squared (R²): {r2:.2f}\")"
   ]
  },
  {
   "cell_type": "markdown",
   "id": "4557275b-999a-4cf0-b6af-9c8eb40a97ff",
   "metadata": {},
   "source": [
    "## Goal 2: Identify Sustainable Land Use Practices\n",
    "Classify land use practices as \"sustainable\" or \"unsustainable.\""
   ]
  },
  {
   "cell_type": "markdown",
   "id": "8b22b310",
   "metadata": {},
   "source": [
    "### 1. Identify and remove the NaN values"
   ]
  },
  {
   "cell_type": "code",
   "execution_count": 28,
   "id": "34a6140f",
   "metadata": {},
   "outputs": [
    {
     "name": "stdout",
     "output_type": "stream",
     "text": [
      "NaN values after cleaning:\n",
      "[0 0 0 0 0 0 0 0 0]\n"
     ]
    }
   ],
   "source": [
    "import numpy as np\n",
    "\n",
    "# Step 1: Replace infinity with NaN in NumPy arrays\n",
    "X_train = np.where(np.isinf(X_train), np.nan, X_train)\n",
    "X_test = np.where(np.isinf(X_test), np.nan, X_test)\n",
    "\n",
    "# Step 2: Handle NaN values (e.g., by imputing or dropping rows)\n",
    "# Example: Impute NaN values with the mean (you can use other strategies too)\n",
    "from sklearn.impute import SimpleImputer\n",
    "\n",
    "imputer = SimpleImputer(strategy='mean')\n",
    "X_train = imputer.fit_transform(X_train)\n",
    "X_test = imputer.transform(X_test)\n",
    "\n",
    "# Verify if there are still NaN values\n",
    "print(\"NaN values after cleaning:\")\n",
    "print(np.isnan(X_train).sum(axis=0))  # Sum of NaN values in each column\n"
   ]
  },
  {
   "cell_type": "markdown",
   "id": "c6344121",
   "metadata": {},
   "source": [
    "### 2. Train the model for Goal 2"
   ]
  },
  {
   "cell_type": "code",
   "execution_count": 32,
   "id": "40ba58ab",
   "metadata": {},
   "outputs": [
    {
     "name": "stdout",
     "output_type": "stream",
     "text": [
      "NaN values in X_train after handling infinities and large values:\n",
      "0 NaN values in training features\n",
      "NaN values in X_test after handling infinities and large values:\n",
      "0 NaN values in test features\n",
      "Accuracy: 1.0\n",
      "Classification Report:\n",
      "              precision    recall  f1-score   support\n",
      "\n",
      "           0       1.00      1.00      1.00    137046\n",
      "           1       1.00      1.00      1.00     98816\n",
      "\n",
      "    accuracy                           1.00    235862\n",
      "   macro avg       1.00      1.00      1.00    235862\n",
      "weighted avg       1.00      1.00      1.00    235862\n",
      "\n"
     ]
    }
   ],
   "source": [
    "import numpy as np\n",
    "from sklearn.ensemble import RandomForestClassifier\n",
    "from sklearn.impute import SimpleImputer\n",
    "from sklearn.metrics import classification_report, accuracy_score\n",
    "\n",
    "# Step 1: Replace infinities with NaN\n",
    "X_train = np.where(np.isfinite(X_train), X_train, np.nan)\n",
    "X_test = np.where(np.isfinite(X_test), X_test, np.nan)\n",
    "\n",
    "# Step 2: Cap values above a threshold\n",
    "max_value = 1e6  # Set an appropriate value to cap\n",
    "X_train[X_train > max_value] = max_value\n",
    "X_test[X_test > max_value] = max_value\n",
    "\n",
    "# Step 3: Check if any NaN values exist after capping and replacing infinities\n",
    "print(\"NaN values in X_train after handling infinities and large values:\")\n",
    "print(np.isnan(X_train).sum(), \"NaN values in training features\")\n",
    "\n",
    "print(\"NaN values in X_test after handling infinities and large values:\")\n",
    "print(np.isnan(X_test).sum(), \"NaN values in test features\")\n",
    "\n",
    "# Step 4: Impute missing values (if any NaN values exist after capping and replacing)\n",
    "imputer = SimpleImputer(strategy='mean')\n",
    "X_train = imputer.fit_transform(X_train)\n",
    "X_test = imputer.transform(X_test)\n",
    "\n",
    "# Step 5: Train the RandomForestClassifier\n",
    "clf = RandomForestClassifier(random_state=42)\n",
    "clf.fit(X_train, y_train)\n",
    "\n",
    "# Step 6: Make predictions on the test set\n",
    "y_pred = clf.predict(X_test)\n",
    "\n",
    "# Step 7: Evaluate the model\n",
    "accuracy = accuracy_score(y_test, y_pred)\n",
    "print(\"Accuracy:\", accuracy)\n",
    "\n",
    "# Detailed classification report\n",
    "print(\"Classification Report:\")\n",
    "print(classification_report(y_test, y_pred))\n"
   ]
  },
  {
   "cell_type": "markdown",
   "id": "47bcf688",
   "metadata": {},
   "source": [
    "### 3. Cross Validation"
   ]
  },
  {
   "cell_type": "code",
   "execution_count": 33,
   "id": "fb2b4e4e",
   "metadata": {},
   "outputs": [
    {
     "name": "stdout",
     "output_type": "stream",
     "text": [
      "Cross-validation scores: [1.        1.        1.        1.        0.9999894]\n",
      "Mean cross-validation score: 0.9999978801095983\n"
     ]
    }
   ],
   "source": [
    "from sklearn.model_selection import cross_val_score\n",
    "\n",
    "# Using cross-validation to estimate model performance\n",
    "cv_scores = cross_val_score(clf, X_train, y_train, cv=5, scoring='accuracy')  # 5-fold cross-validation\n",
    "print(f'Cross-validation scores: {cv_scores}')\n",
    "print(f'Mean cross-validation score: {cv_scores.mean()}')\n"
   ]
  },
  {
   "cell_type": "markdown",
   "id": "25abf2ba",
   "metadata": {},
   "source": [
    "The results with high score typically indicates that the model is overfitting the training data (i.e., it fits the training data very well but may not generalize as effectively to new, unseen data). This could be a concern, especially if the dataset isn't sufficiently diverse or large, or if the model is too complex. So carrying out following steps to get the better result."
   ]
  },
  {
   "cell_type": "markdown",
   "id": "a45b43e9",
   "metadata": {},
   "source": [
    "### 4. Identifying Duplicates"
   ]
  },
  {
   "cell_type": "code",
   "execution_count": 35,
   "id": "1f721847",
   "metadata": {},
   "outputs": [
    {
     "name": "stdout",
     "output_type": "stream",
     "text": [
      "Duplicates in training set: 9760\n",
      "Duplicates in test set: 1447\n"
     ]
    }
   ],
   "source": [
    "import pandas as pd\n",
    "\n",
    "# Convert X_train and X_test to DataFrame for easier manipulation\n",
    "X_train_df = pd.DataFrame(X_train)\n",
    "X_test_df = pd.DataFrame(X_test)\n",
    "\n",
    "# Check for duplicates\n",
    "duplicates_train = X_train_df.duplicated().sum()\n",
    "duplicates_test = X_test_df.duplicated().sum()\n",
    "\n",
    "print(f'Duplicates in training set: {duplicates_train}')\n",
    "print(f'Duplicates in test set: {duplicates_test}')\n",
    "\n"
   ]
  },
  {
   "cell_type": "markdown",
   "id": "e70e9a32",
   "metadata": {},
   "source": [
    "### 5. Removing Duplicates from Training Set and Test Set"
   ]
  },
  {
   "cell_type": "code",
   "execution_count": 37,
   "id": "1941cb1f",
   "metadata": {},
   "outputs": [
    {
     "name": "stdout",
     "output_type": "stream",
     "text": [
      "Duplicates removed from training set: 9234\n",
      "Duplicates removed from test set: 1412\n"
     ]
    }
   ],
   "source": [
    "import pandas as pd\n",
    "\n",
    "# Convert X_train and y_train to DataFrame if they are numpy arrays\n",
    "X_train_df = pd.DataFrame(X_train)\n",
    "y_train_df = pd.Series(y_train)\n",
    "\n",
    "X_test_df = pd.DataFrame(X_test)\n",
    "y_test_df = pd.Series(y_test)\n",
    "\n",
    "# Drop duplicates in both X_train and y_train\n",
    "train_data = pd.concat([X_train_df, y_train_df], axis=1)\n",
    "train_data = train_data.drop_duplicates()\n",
    "\n",
    "# Split back into X_train and y_train after dropping duplicates\n",
    "X_train_cleaned = train_data.drop(columns=[y_train_df.name])\n",
    "y_train_cleaned = train_data[y_train_df.name]\n",
    "\n",
    "# Do the same for X_test and y_test\n",
    "test_data = pd.concat([X_test_df, y_test_df], axis=1)\n",
    "test_data = test_data.drop_duplicates()\n",
    "\n",
    "X_test_cleaned = test_data.drop(columns=[y_test_df.name])\n",
    "y_test_cleaned = test_data[y_test_df.name]\n",
    "\n",
    "# Convert cleaned DataFrames back to numpy arrays\n",
    "X_train = X_train_cleaned.values\n",
    "X_test = X_test_cleaned.values\n",
    "y_train = y_train_cleaned.values\n",
    "y_test = y_test_cleaned.values\n",
    "\n",
    "# Check if duplicates were successfully removed\n",
    "print(f'Duplicates removed from training set: {X_train_df.shape[0] - X_train_cleaned.shape[0]}')\n",
    "print(f'Duplicates removed from test set: {X_test_df.shape[0] - X_test_cleaned.shape[0]}')\n"
   ]
  },
  {
   "cell_type": "markdown",
   "id": "e09da4ca",
   "metadata": {},
   "source": [
    "### 6. Re-train the Model"
   ]
  },
  {
   "cell_type": "code",
   "execution_count": 41,
   "id": "cf13739e",
   "metadata": {},
   "outputs": [
    {
     "name": "stdout",
     "output_type": "stream",
     "text": [
      "Accuracy: 0.5225007550588946\n",
      "\n",
      "Classification Report:\n",
      "              precision    recall  f1-score   support\n",
      "\n",
      "         0.0       0.55      0.73      0.63      1822\n",
      "         1.0       0.45      0.27      0.34      1489\n",
      "\n",
      "    accuracy                           0.52      3311\n",
      "   macro avg       0.50      0.50      0.48      3311\n",
      "weighted avg       0.50      0.52      0.50      3311\n",
      "\n",
      "\n",
      "Cross-validation scores: [0.54317897 0.54324078 0.54050979 0.54665453 0.54153391]\n",
      "Mean cross-validation score: 0.5430235962909941\n"
     ]
    }
   ],
   "source": [
    "import numpy as np\n",
    "\n",
    "# Remove NaN values from X_test and y_test\n",
    "# Ensure that the rows removed from X_test also have the corresponding rows removed from y_test\n",
    "nan_indices = np.isnan(y_test)\n",
    "\n",
    "X_test_clean = X_test[~nan_indices]\n",
    "y_test_clean = y_test[~nan_indices]\n",
    "\n",
    "# Make predictions using the cleaned test set\n",
    "y_pred = clf.predict(X_test_clean)\n",
    "\n",
    "# Ensure no NaN values remain in y_pred\n",
    "if np.any(np.isnan(y_pred)):\n",
    "    print(\"Warning: NaN values detected in y_pred. Handling them...\")\n",
    "    y_pred = np.nan_to_num(y_pred)\n",
    "\n",
    "# Now evaluate the model\n",
    "accuracy = accuracy_score(y_test_clean, y_pred)\n",
    "print(f'Accuracy: {accuracy}')\n",
    "\n",
    "# Classification Report\n",
    "print(\"\\nClassification Report:\")\n",
    "print(classification_report(y_test_clean, y_pred))\n",
    "\n",
    "# Cross-validation scores\n",
    "cv_scores = cross_val_score(clf, X_train_clean, y_train_clean, cv=5)\n",
    "print(f'\\nCross-validation scores: {cv_scores}')\n",
    "print(f'Mean cross-validation score: {cv_scores.mean()}')\n"
   ]
  },
  {
   "cell_type": "markdown",
   "id": "1d61fffe-0dfe-4463-9f28-88681c25cb37",
   "metadata": {},
   "source": [
    "## Goal 3: Forecast Sustainable Agriculture Productivity\n",
    "Build a time-series forecasting model."
   ]
  },
  {
   "cell_type": "markdown",
   "id": "58b9e8e1",
   "metadata": {},
   "source": [
    "### 1. Check the columns in the merged_df dataset"
   ]
  },
  {
   "cell_type": "code",
   "execution_count": null,
   "id": "82cb4b33",
   "metadata": {},
   "outputs": [
    {
     "name": "stdout",
     "output_type": "stream",
     "text": [
      "Index(['country_or_area', 'element_code_x', 'element_x', 'unit_x',\n",
      "       'value_prod', 'value_footnotes_x', 'category_x', 'element_code_y',\n",
      "       'element_y', 'unit_y', 'value_land', 'value_footnotes_y', 'category_y',\n",
      "       'element_code', 'element', 'unit', 'value_fert', 'value_footnotes',\n",
      "       'category', 'value_prod_lag1', 'land_fert_interaction',\n",
      "       'fertilizer_efficiency', 'land_productivity', 'prod_yoy_change',\n",
      "       'normalized_fert', 'normalized_land', 'sustainability'],\n",
      "      dtype='object')\n"
     ]
    }
   ],
   "source": [
    "# Check the columns in the merged_df dataset\n",
    "print(merged_df.columns)\n"
   ]
  },
  {
   "cell_type": "markdown",
   "id": "1cc248e3",
   "metadata": {},
   "source": [
    "### 2. Convert the 'year' column to datetime"
   ]
  },
  {
   "cell_type": "code",
   "execution_count": 66,
   "id": "138abf66",
   "metadata": {},
   "outputs": [],
   "source": [
    "# Convert the 'year' column to datetime\n",
    "merged_df['year'] = pd.to_datetime(merged_df['year'], format='%Y')\n",
    "\n",
    "# Set the 'year' column as the index\n",
    "merged_df.set_index('year', inplace=True)\n"
   ]
  },
  {
   "cell_type": "markdown",
   "id": "09f0c7c3",
   "metadata": {},
   "source": [
    "### 3. Run the code for Goal 3"
   ]
  },
  {
   "cell_type": "code",
   "execution_count": 70,
   "id": "0bb86625",
   "metadata": {},
   "outputs": [
    {
     "name": "stderr",
     "output_type": "stream",
     "text": [
      "/Users/prabha/Documents/capstone/Data-Analytics-Capstone/.venv/lib/python3.11/site-packages/statsmodels/tsa/base/tsa_model.py:473: ValueWarning: A date index has been provided, but it has no associated frequency information and so will be ignored when e.g. forecasting.\n",
      "  self._init_dates(dates, freq)\n",
      "/Users/prabha/Documents/capstone/Data-Analytics-Capstone/.venv/lib/python3.11/site-packages/statsmodels/tsa/base/tsa_model.py:473: ValueWarning: A date index has been provided, but it has no associated frequency information and so will be ignored when e.g. forecasting.\n",
      "  self._init_dates(dates, freq)\n"
     ]
    },
    {
     "name": "stdout",
     "output_type": "stream",
     "text": [
      "RUNNING THE L-BFGS-B CODE\n",
      "\n",
      "           * * *\n",
      "\n",
      "Machine precision = 2.220D-16\n",
      " N =            7     M =           10\n",
      "\n",
      "At X0         0 variables are exactly at the bounds\n",
      "\n",
      "At iterate    0    f=  1.86348D+01    |proj g|=  7.86616D-02\n"
     ]
    },
    {
     "name": "stderr",
     "output_type": "stream",
     "text": [
      " This problem is unconstrained.\n"
     ]
    },
    {
     "name": "stdout",
     "output_type": "stream",
     "text": [
      "\n",
      "At iterate    5    f=  1.85623D+01    |proj g|=  6.34713D-02\n",
      "\n",
      "At iterate   10    f=  1.85465D+01    |proj g|=  2.70886D-03\n",
      "\n",
      "At iterate   15    f=  1.85457D+01    |proj g|=  6.57869D-04\n",
      "\n",
      "At iterate   20    f=  1.85454D+01    |proj g|=  3.83107D-03\n",
      "\n",
      "At iterate   25    f=  1.85453D+01    |proj g|=  2.18960D-04\n",
      "\n",
      "At iterate   30    f=  1.85453D+01    |proj g|=  3.19665D-04\n",
      "\n",
      "At iterate   35    f=  1.85452D+01    |proj g|=  2.59090D-03\n",
      "\n",
      "           * * *\n",
      "\n",
      "Tit   = total number of iterations\n",
      "Tnf   = total number of function evaluations\n",
      "Tnint = total number of segments explored during Cauchy searches\n",
      "Skip  = number of BFGS updates skipped\n",
      "Nact  = number of active bounds at final generalized Cauchy point\n",
      "Projg = norm of the final projected gradient\n",
      "F     = final function value\n",
      "\n",
      "           * * *\n",
      "\n",
      "   N    Tit     Tnf  Tnint  Skip  Nact     Projg        F\n",
      "    7     39     45      1     0     0   1.001D-05   1.855D+01\n",
      "  F =   18.545170958764441     \n",
      "\n",
      "CONVERGENCE: REL_REDUCTION_OF_F_<=_FACTR*EPSMCH             \n",
      "4023    1.809008e+07\n",
      "4024    2.322963e+07\n",
      "4025    2.284364e+07\n",
      "4026    2.100950e+07\n",
      "4027    2.146681e+07\n",
      "4028    2.291803e+07\n",
      "4029    1.809109e+07\n",
      "4030    1.733960e+07\n",
      "4031    2.682106e+07\n",
      "4032    2.089781e+07\n",
      "4033    2.069673e+07\n",
      "4034    2.239311e+07\n",
      "Name: predicted_mean, dtype: float64\n"
     ]
    },
    {
     "name": "stderr",
     "output_type": "stream",
     "text": [
      "/Users/prabha/Documents/capstone/Data-Analytics-Capstone/.venv/lib/python3.11/site-packages/statsmodels/tsa/base/tsa_model.py:837: ValueWarning: No supported index is available. Prediction results will be given with an integer index beginning at `start`.\n",
      "  return get_prediction_index(\n",
      "/Users/prabha/Documents/capstone/Data-Analytics-Capstone/.venv/lib/python3.11/site-packages/statsmodels/tsa/base/tsa_model.py:837: FutureWarning: No supported index is available. In the next version, calling this method in a model without a supported index will result in an exception.\n",
      "  return get_prediction_index(\n"
     ]
    }
   ],
   "source": [
    "# Ensure that the 'year' is in datetime format and properly set as the index\n",
    "country_data.index = pd.to_datetime(country_data.index)\n",
    "\n",
    "# Ensure the data is sorted by year\n",
    "country_data = country_data.sort_index()\n",
    "\n",
    "# Train the SARIMAX model\n",
    "sarimax_model = SARIMAX(country_data['value_prod'], \n",
    "                        exog=country_data[['value_land', 'value_fert']], \n",
    "                        order=(1, 1, 1), \n",
    "                        seasonal_order=(1, 1, 1, 12))\n",
    "\n",
    "# Fit the model\n",
    "sarimax_results = sarimax_model.fit()\n",
    "\n",
    "# Forecast future productivity for the next 12 periods\n",
    "forecast = sarimax_results.forecast(steps=12, \n",
    "                                    exog=country_data[['value_land', 'value_fert']].iloc[-12:])\n",
    "\n",
    "# Print the forecast results\n",
    "print(forecast)\n"
   ]
  },
  {
   "cell_type": "markdown",
   "id": "3926f0d2-41ba-47c9-add6-7c9c3877000c",
   "metadata": {},
   "source": [
    "### 4. Visualize model predictions and feature importance for insights."
   ]
  },
  {
   "cell_type": "code",
   "execution_count": 71,
   "id": "f9352012",
   "metadata": {},
   "outputs": [
    {
     "name": "stderr",
     "output_type": "stream",
     "text": [
      "/var/folders/jt/crfp8jt53r547cy9xvkqj3s40000gn/T/ipykernel_30379/3106653972.py:6: FutureWarning: 'Y' is deprecated and will be removed in a future version, please use 'YE' instead.\n",
      "  plt.plot(pd.date_range(country_data.index[-1], periods=13, freq='Y')[1:], forecast, label='Forecast', color='red')\n"
     ]
    },
    {
     "data": {
      "image/png": "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",
      "text/plain": [
       "<Figure size 1000x600 with 1 Axes>"
      ]
     },
     "metadata": {},
     "output_type": "display_data"
    }
   ],
   "source": [
    "import matplotlib.pyplot as plt\n",
    "\n",
    "# Plot the historical data and forecasted values\n",
    "plt.figure(figsize=(10, 6))\n",
    "plt.plot(country_data.index, country_data['value_prod'], label='Historical Data', color='blue')\n",
    "plt.plot(pd.date_range(country_data.index[-1], periods=13, freq='Y')[1:], forecast, label='Forecast', color='red')\n",
    "plt.title('Sustainable Agricultural Productivity Forecast')\n",
    "plt.xlabel('Year')\n",
    "plt.ylabel('Productivity')\n",
    "plt.legend()\n",
    "plt.show()\n"
   ]
  }
 ],
 "metadata": {
  "kernelspec": {
   "display_name": "Python 3 (ipykernel)",
   "language": "python",
   "name": "python3"
  },
  "language_info": {
   "codemirror_mode": {
    "name": "ipython",
    "version": 3
   },
   "file_extension": ".py",
   "mimetype": "text/x-python",
   "name": "python",
   "nbconvert_exporter": "python",
   "pygments_lexer": "ipython3",
   "version": "3.11.4"
  }
 },
 "nbformat": 4,
 "nbformat_minor": 5
}
