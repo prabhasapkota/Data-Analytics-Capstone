{
 "cells": [
  {
   "cell_type": "markdown",
   "id": "d45f6414-ce3e-42c6-8648-77794135ea8b",
   "metadata": {},
   "source": [
    "# Step 1: Load and Inspect the Data"
   ]
  },
  {
   "cell_type": "code",
   "execution_count": 2,
   "id": "2702f25b-9777-4779-a364-1b8d61d923db",
   "metadata": {},
   "outputs": [
    {
     "name": "stdout",
     "output_type": "stream",
     "text": [
      "<class 'pandas.core.frame.DataFrame'>\n",
      "RangeIndex: 234533 entries, 0 to 234532\n",
      "Data columns (total 8 columns):\n",
      " #   Column           Non-Null Count   Dtype  \n",
      "---  ------           --------------   -----  \n",
      " 0   country_or_area  234533 non-null  object \n",
      " 1   element_code     234533 non-null  int64  \n",
      " 2   element          234533 non-null  object \n",
      " 3   year             234533 non-null  int64  \n",
      " 4   unit             234533 non-null  object \n",
      " 5   value            234533 non-null  float64\n",
      " 6   value_footnotes  234533 non-null  object \n",
      " 7   category         234533 non-null  object \n",
      "dtypes: float64(1), int64(2), object(5)\n",
      "memory usage: 14.3+ MB\n",
      "None\n",
      "<class 'pandas.core.frame.DataFrame'>\n",
      "RangeIndex: 104659 entries, 0 to 104658\n",
      "Data columns (total 8 columns):\n",
      " #   Column           Non-Null Count   Dtype  \n",
      "---  ------           --------------   -----  \n",
      " 0   country_or_area  104659 non-null  object \n",
      " 1   element_code     104659 non-null  int64  \n",
      " 2   element          104659 non-null  object \n",
      " 3   year             104659 non-null  int64  \n",
      " 4   unit             104659 non-null  object \n",
      " 5   value            104659 non-null  float64\n",
      " 6   value_footnotes  104658 non-null  object \n",
      " 7   category         104659 non-null  object \n",
      "dtypes: float64(1), int64(2), object(5)\n",
      "memory usage: 6.4+ MB\n",
      "None\n",
      "<class 'pandas.core.frame.DataFrame'>\n",
      "RangeIndex: 102124 entries, 0 to 102123\n",
      "Data columns (total 8 columns):\n",
      " #   Column           Non-Null Count   Dtype  \n",
      "---  ------           --------------   -----  \n",
      " 0   country_or_area  102124 non-null  object \n",
      " 1   element_code     102124 non-null  int64  \n",
      " 2   element          102124 non-null  object \n",
      " 3   year             102124 non-null  int64  \n",
      " 4   unit             102124 non-null  object \n",
      " 5   value            102124 non-null  float64\n",
      " 6   value_footnotes  57582 non-null   object \n",
      " 7   category         102124 non-null  object \n",
      "dtypes: float64(1), int64(2), object(5)\n",
      "memory usage: 6.2+ MB\n",
      "None\n"
     ]
    }
   ],
   "source": [
    "import pandas as pd\n",
    "\n",
    "# Load datasets\n",
    "production_df = pd.read_csv('cleaned_fao_data_production_indices_data.csv')\n",
    "land_df = pd.read_csv('cleaned_fao_data_land_data.csv')\n",
    "fertilizer_df = pd.read_csv('cleaned_fao_data_fertilizers_data.csv')\n",
    "\n",
    "# Inspect the structure of each dataset\n",
    "print(production_df.info())\n",
    "print(land_df.info())\n",
    "print(fertilizer_df.info())\n"
   ]
  },
  {
   "cell_type": "markdown",
   "id": "d72f2fcb-9c06-4622-b746-797e66d17c77",
   "metadata": {},
   "source": [
    "# Step 2: Merge Datasets"
   ]
  },
  {
   "cell_type": "code",
   "execution_count": null,
   "id": "911476cc-d717-4328-b978-fc52b9194b8d",
   "metadata": {},
   "outputs": [],
   "source": [
    "# Merge datasets on common columns\n",
    "merged_df = production_df.merge(land_df, on=['country_or_area', 'year'], suffixes=('_prod', '_land'))\n",
    "merged_df = merged_df.merge(fertilizer_df, on=['country_or_area', 'year'], suffixes=('', '_fert'))\n",
    "\n",
    "# Inspect merged data\n",
    "print(merged_df.head())\n"
   ]
  }
 ],
 "metadata": {
  "kernelspec": {
   "display_name": "Python (.venv)",
   "language": "python",
   "name": ".venv"
  },
  "language_info": {
   "codemirror_mode": {
    "name": "ipython",
    "version": 3
   },
   "file_extension": ".py",
   "mimetype": "text/x-python",
   "name": "python",
   "nbconvert_exporter": "python",
   "pygments_lexer": "ipython3",
   "version": "3.11.4"
  }
 },
 "nbformat": 4,
 "nbformat_minor": 5
}
