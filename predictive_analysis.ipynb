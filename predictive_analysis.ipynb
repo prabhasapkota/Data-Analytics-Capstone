{
 "cells": [
  {
   "cell_type": "markdown",
   "id": "d45f6414-ce3e-42c6-8648-77794135ea8b",
   "metadata": {},
   "source": [
    "# Step 1: Load and Inspect the Data"
   ]
  },
  {
   "cell_type": "code",
   "execution_count": 1,
   "id": "2702f25b-9777-4779-a364-1b8d61d923db",
   "metadata": {},
   "outputs": [
    {
     "name": "stdout",
     "output_type": "stream",
     "text": [
      "<class 'pandas.core.frame.DataFrame'>\n",
      "RangeIndex: 234533 entries, 0 to 234532\n",
      "Data columns (total 8 columns):\n",
      " #   Column           Non-Null Count   Dtype  \n",
      "---  ------           --------------   -----  \n",
      " 0   country_or_area  234533 non-null  object \n",
      " 1   element_code     234533 non-null  int64  \n",
      " 2   element          234533 non-null  object \n",
      " 3   year             234533 non-null  int64  \n",
      " 4   unit             234533 non-null  object \n",
      " 5   value            234533 non-null  float64\n",
      " 6   value_footnotes  234533 non-null  object \n",
      " 7   category         234533 non-null  object \n",
      "dtypes: float64(1), int64(2), object(5)\n",
      "memory usage: 14.3+ MB\n",
      "None\n",
      "<class 'pandas.core.frame.DataFrame'>\n",
      "RangeIndex: 104659 entries, 0 to 104658\n",
      "Data columns (total 8 columns):\n",
      " #   Column           Non-Null Count   Dtype  \n",
      "---  ------           --------------   -----  \n",
      " 0   country_or_area  104659 non-null  object \n",
      " 1   element_code     104659 non-null  int64  \n",
      " 2   element          104659 non-null  object \n",
      " 3   year             104659 non-null  int64  \n",
      " 4   unit             104659 non-null  object \n",
      " 5   value            104659 non-null  float64\n",
      " 6   value_footnotes  104658 non-null  object \n",
      " 7   category         104659 non-null  object \n",
      "dtypes: float64(1), int64(2), object(5)\n",
      "memory usage: 6.4+ MB\n",
      "None\n",
      "<class 'pandas.core.frame.DataFrame'>\n",
      "RangeIndex: 102124 entries, 0 to 102123\n",
      "Data columns (total 8 columns):\n",
      " #   Column           Non-Null Count   Dtype  \n",
      "---  ------           --------------   -----  \n",
      " 0   country_or_area  102124 non-null  object \n",
      " 1   element_code     102124 non-null  int64  \n",
      " 2   element          102124 non-null  object \n",
      " 3   year             102124 non-null  int64  \n",
      " 4   unit             102124 non-null  object \n",
      " 5   value            102124 non-null  float64\n",
      " 6   value_footnotes  57582 non-null   object \n",
      " 7   category         102124 non-null  object \n",
      "dtypes: float64(1), int64(2), object(5)\n",
      "memory usage: 6.2+ MB\n",
      "None\n"
     ]
    }
   ],
   "source": [
    "import pandas as pd\n",
    "\n",
    "# Load datasets\n",
    "production_df = pd.read_csv('cleaned_fao_data_production_indices_data.csv')\n",
    "land_df = pd.read_csv('cleaned_fao_data_land_data.csv')\n",
    "fertilizer_df = pd.read_csv('cleaned_fao_data_fertilizers_data.csv')\n",
    "\n",
    "# Inspect the structure of each dataset\n",
    "print(production_df.info())\n",
    "print(land_df.info())\n",
    "print(fertilizer_df.info())\n"
   ]
  },
  {
   "cell_type": "markdown",
   "id": "d72f2fcb-9c06-4622-b746-797e66d17c77",
   "metadata": {},
   "source": [
    "# Step 2: Merge Datasets"
   ]
  },
  {
   "cell_type": "code",
   "execution_count": 1,
   "id": "911476cc-d717-4328-b978-fc52b9194b8d",
   "metadata": {},
   "outputs": [
    {
     "name": "stdout",
     "output_type": "stream",
     "text": [
      "Merged Dataset Columns:\n",
      "Index(['country_or_area', 'year', 'value_prod', 'value_land', 'value_fert'], dtype='object')\n",
      "\n",
      "Preview of Merged Dataset:\n",
      "  country_or_area  year  value_prod  value_land  value_fert\n",
      "0     Afghanistan  2007   2486910.0     38661.0    920000.0\n",
      "1     Afghanistan  2007   2486910.0     38661.0    186000.0\n",
      "2     Afghanistan  2007   2486910.0     38661.0   4357000.0\n",
      "3     Afghanistan  2007   2486910.0     38661.0      9035.0\n",
      "4     Afghanistan  2007   2486910.0     38661.0   5387000.0\n"
     ]
    }
   ],
   "source": [
    "import pandas as pd\n",
    "\n",
    "# Load datasets\n",
    "production_df = pd.read_csv('cleaned_fao_data_production_indices_data.csv')\n",
    "land_df = pd.read_csv('cleaned_fao_data_land_data.csv')\n",
    "fertilizer_df = pd.read_csv('cleaned_fao_data_fertilizers_data.csv')\n",
    "\n",
    "# Select only the important columns\n",
    "production_columns = ['country_or_area', 'year', 'value']  # Add other necessary columns if needed\n",
    "land_columns = ['country_or_area', 'year', 'value']  # Adjust based on the important columns for land data\n",
    "fertilizer_columns = ['country_or_area', 'year', 'value']  # Adjust based on the important columns for fertilizer data\n",
    "\n",
    "# Rename 'value' columns for clarity before merging\n",
    "production_df = production_df[production_columns].rename(columns={'value': 'value_prod'})\n",
    "land_df = land_df[land_columns].rename(columns={'value': 'value_land'})\n",
    "fertilizer_df = fertilizer_df[fertilizer_columns].rename(columns={'value': 'value_fert'})\n",
    "\n",
    "# Merge datasets on common columns (country_or_area and year)\n",
    "merged_df = production_df.merge(land_df, on=['country_or_area', 'year'])\n",
    "merged_df = merged_df.merge(fertilizer_df, on=['country_or_area', 'year'])\n",
    "\n",
    "# Inspect the merged dataset\n",
    "print(\"Merged Dataset Columns:\")\n",
    "print(merged_df.columns)\n",
    "\n",
    "print(\"\\nPreview of Merged Dataset:\")\n",
    "print(merged_df.head())\n"
   ]
  },
  {
   "cell_type": "markdown",
   "id": "b737ea42-f8a0-4330-b7ac-4baef541e483",
   "metadata": {},
   "source": [
    "# Feature Engineering \n",
    "Lagged Features: Added lagged variables for value_prod (production indices) to capture temporal trends.\n",
    "Interaction Features: Combined land use and fertilizer usage as interaction terms.\n"
   ]
  },
  {
   "cell_type": "code",
   "execution_count": 15,
   "id": "893e235f",
   "metadata": {},
   "outputs": [
    {
     "name": "stdout",
     "output_type": "stream",
     "text": [
      "Enhanced Dataset Columns:\n",
      "Index(['country_or_area', 'element_code_x', 'element_x', 'year', 'unit_x',\n",
      "       'value_prod', 'value_footnotes_x', 'category_x', 'element_code_y',\n",
      "       'element_y', 'unit_y', 'value_land', 'value_footnotes_y', 'category_y',\n",
      "       'element_code', 'element', 'unit', 'value_fert', 'value_footnotes',\n",
      "       'category', 'value_prod_lag1', 'land_fert_interaction',\n",
      "       'fertilizer_efficiency', 'land_productivity', 'prod_yoy_change',\n",
      "       'normalized_fert', 'normalized_land'],\n",
      "      dtype='object')\n",
      "\n",
      "Preview of Enhanced Dataset:\n",
      "              country_or_area  element_code_x  \\\n",
      "10340518               Cyprus             438   \n",
      "16316627           Madagascar             152   \n",
      "18228962       Western Asia +             438   \n",
      "8748515   Trinidad and Tobago             154   \n",
      "7588607             Nicaragua             438   \n",
      "\n",
      "                                     element_x  year       unit_x  value_prod  \\\n",
      "10340518   Net per capita PIN (base 1999-2001)  1969       Int. $       122.0   \n",
      "16316627  Gross Production 1999-2001 (1000 I$)  2007  1000 Int. $    631014.0   \n",
      "18228962   Net per capita PIN (base 1999-2001)  1975       Int. $       104.0   \n",
      "8748515     Net Production 1999-2001 (1000 I$)  1977  1000 Int. $     77140.0   \n",
      "7588607    Net per capita PIN (base 1999-2001)  1962       Int. $       158.0   \n",
      "\n",
      "         value_footnotes_x     category_x  element_code_y element_y  ...  \\\n",
      "10340518                A        food_pin              11      Area  ...   \n",
      "16316627                A   livestock_pin              11      Area  ...   \n",
      "18228962                A   livestock_pin              11      Area  ...   \n",
      "8748515                 A       crops_pin              11      Area  ...   \n",
      "7588607                 A       crops_pin              11      Area  ...   \n",
      "\n",
      "         value_fert  value_footnotes  category value_prod_lag1  \\\n",
      "10340518    42000.0               F      asses        288127.0   \n",
      "16316627  1250000.0               F      goats           104.0   \n",
      "18228962   120835.0               A   chickens           114.0   \n",
      "8748515      2000.0               F      asses         30513.0   \n",
      "7588607      1140.0               F      sheep           143.0   \n",
      "\n",
      "          land_fert_interaction fertilizer_efficiency land_productivity  \\\n",
      "10340518           3.880800e+07              0.002905          0.132035   \n",
      "16316627           7.338000e+10              0.504811         10.749080   \n",
      "18228962           5.583773e+10              0.000861          0.000225   \n",
      "8748515            2.120000e+05             38.570000        727.735849   \n",
      "7588607            2.052000e+04              0.138596          8.777778   \n",
      "\n",
      "          prod_yoy_change normalized_fert normalized_land  \n",
      "10340518        -0.999577    8.147607e-09    7.005274e-09  \n",
      "16316627      6066.442308    2.424883e-07    4.450623e-07  \n",
      "18228962        -0.087719    2.344086e-08    3.503387e-06  \n",
      "8748515          1.528103    3.879813e-10    8.036353e-10  \n",
      "7588607          0.104895    2.211493e-10    1.364664e-10  \n",
      "\n",
      "[5 rows x 27 columns]\n"
     ]
    }
   ],
   "source": [
    "# Ensure required libraries are imported\n",
    "import pandas as pd\n",
    "\n",
    "# Assuming 'merged_df' is the merged dataset containing:\n",
    "# 'country_or_area', 'year', 'value_prod', 'value_land', 'value_fert'\n",
    "\n",
    "# 1. Lagged Features: Previous year's productivity\n",
    "merged_df['value_prod_lag1'] = merged_df.groupby('country_or_area')['value_prod'].shift(1)\n",
    "\n",
    "# 2. Interaction Term: Combined effect of land and fertilizer\n",
    "merged_df['land_fert_interaction'] = merged_df['value_land'] * merged_df['value_fert']\n",
    "\n",
    "# 3. Fertilizer Efficiency: Productivity per unit of fertilizer\n",
    "merged_df['fertilizer_efficiency'] = merged_df['value_prod'] / merged_df['value_fert']\n",
    "\n",
    "# 4. Land Productivity: Productivity per unit of land\n",
    "merged_df['land_productivity'] = merged_df['value_prod'] / merged_df['value_land']\n",
    "\n",
    "# 5. Year-on-Year Change in Productivity\n",
    "merged_df['prod_yoy_change'] = merged_df.groupby('country_or_area')['value_prod'].pct_change()\n",
    "\n",
    "# 6. Normalized Fertilizer Use: Fertilizer use as a proportion of total fertilizer use across all countries\n",
    "merged_df['normalized_fert'] = merged_df['value_fert'] / merged_df['value_fert'].sum()\n",
    "\n",
    "# 7. Normalized Land Use: Land use as a proportion of total land use across all countries\n",
    "merged_df['normalized_land'] = merged_df['value_land'] / merged_df['value_land'].sum()\n",
    "\n",
    "# Drop rows with NaNs introduced by lagging or percentage changes\n",
    "merged_df.dropna(inplace=True)\n",
    "\n",
    "# Preview the enhanced dataset\n",
    "print(\"Enhanced Dataset Columns:\")\n",
    "print(merged_df.columns)\n",
    "\n",
    "print(\"\\nPreview of Enhanced Dataset:\")\n",
    "print(merged_df.head())\n"
   ]
  },
  {
   "cell_type": "markdown",
   "id": "bd5148a6-ca1b-4245-a3f1-79ad7626dbd6",
   "metadata": {},
   "source": [
    "## Train-Test split"
   ]
  },
  {
   "cell_type": "markdown",
   "id": "6920c0e2-1866-4496-8c0c-06b449aa8c02",
   "metadata": {},
   "source": [
    "## Train Predictive Models\n",
    "Train machine learning models for each goal."
   ]
  },
  {
   "cell_type": "code",
   "execution_count": 16,
   "id": "e676e194",
   "metadata": {},
   "outputs": [
    {
     "name": "stdout",
     "output_type": "stream",
     "text": [
      "Index(['country_or_area', 'element_code_x', 'element_x', 'year', 'unit_x',\n",
      "       'value_prod', 'value_footnotes_x', 'category_x', 'element_code_y',\n",
      "       'element_y', 'unit_y', 'value_land', 'value_footnotes_y', 'category_y',\n",
      "       'element_code', 'element', 'unit', 'value_fert', 'value_footnotes',\n",
      "       'category', 'value_prod_lag1', 'land_fert_interaction',\n",
      "       'fertilizer_efficiency', 'land_productivity', 'prod_yoy_change',\n",
      "       'normalized_fert', 'normalized_land'],\n",
      "      dtype='object')\n"
     ]
    }
   ],
   "source": [
    "# Check columns in the enhanced dataset\n",
    "print(merged_df.columns)\n"
   ]
  },
  {
   "cell_type": "code",
   "execution_count": 17,
   "id": "94755a6f",
   "metadata": {},
   "outputs": [
    {
     "name": "stdout",
     "output_type": "stream",
     "text": [
      "Training set features: (943446, 9)\n",
      "Testing set features: (235862, 9)\n",
      "Training set target: (943446,)\n",
      "Testing set target: (235862,)\n"
     ]
    }
   ],
   "source": [
    "from sklearn.model_selection import train_test_split\n",
    "\n",
    "# Step 1: Define features (X) and target (y)\n",
    "X = merged_df[['value_land', 'value_fert', 'value_prod_lag1', 'land_fert_interaction', \n",
    "               'fertilizer_efficiency', 'land_productivity', 'prod_yoy_change', \n",
    "               'normalized_fert', 'normalized_land']]  # Your engineered features\n",
    "y = merged_df['value_prod']  # Your target variable (productivity)\n",
    "\n",
    "# Step 2: Train-test split (80% training, 20% testing)\n",
    "X_train, X_test, y_train, y_test = train_test_split(X, y, test_size=0.2, random_state=42)\n",
    "\n",
    "# Print the shape of the resulting datasets to verify the split\n",
    "print(f\"Training set features: {X_train.shape}\")\n",
    "print(f\"Testing set features: {X_test.shape}\")\n",
    "print(f\"Training set target: {y_train.shape}\")\n",
    "print(f\"Testing set target: {y_test.shape}\")\n"
   ]
  },
  {
   "cell_type": "markdown",
   "id": "876b095d-ac31-4ae2-b14c-bef04848fda0",
   "metadata": {},
   "source": [
    "## Goal 1: Optimize Farm Input Usage\n",
    "Use a regression model to predict productivity based on fertilizer and land use."
   ]
  },
  {
   "cell_type": "markdown",
   "id": "5d6d31b3",
   "metadata": {},
   "source": [
    "### 1. Check for NaN or infinite values"
   ]
  },
  {
   "cell_type": "code",
   "execution_count": 19,
   "id": "3850a523",
   "metadata": {},
   "outputs": [
    {
     "name": "stdout",
     "output_type": "stream",
     "text": [
      "Checking for NaNs in the training features:\n",
      "value_land               0\n",
      "value_fert               0\n",
      "value_prod_lag1          0\n",
      "land_fert_interaction    0\n",
      "fertilizer_efficiency    0\n",
      "land_productivity        0\n",
      "prod_yoy_change          0\n",
      "normalized_fert          0\n",
      "normalized_land          0\n",
      "dtype: int64\n",
      "value_land                   0\n",
      "value_fert                   0\n",
      "value_prod_lag1              0\n",
      "land_fert_interaction        0\n",
      "fertilizer_efficiency    33333\n",
      "land_productivity          393\n",
      "prod_yoy_change            919\n",
      "normalized_fert              0\n",
      "normalized_land              0\n",
      "dtype: int64\n",
      "Checking for NaNs in the target:\n",
      "0\n",
      "0\n"
     ]
    }
   ],
   "source": [
    "# Check for NaN or infinite values in the training set\n",
    "print(\"Checking for NaNs in the training features:\")\n",
    "print(X_train.isna().sum())  # To check for NaNs in features\n",
    "print(np.isinf(X_train).sum())  # To check for infinite values in features\n",
    "\n",
    "# Check target variable for NaN or infinite values\n",
    "print(\"Checking for NaNs in the target:\")\n",
    "print(y_train.isna().sum())  # To check for NaNs in target\n",
    "print(np.isinf(y_train).sum())  # To check for infinite values in target\n"
   ]
  },
  {
   "cell_type": "markdown",
   "id": "9f7428b5",
   "metadata": {},
   "source": [
    "### 2. Fill NaNs with the median value of each column"
   ]
  },
  {
   "cell_type": "code",
   "execution_count": 20,
   "id": "3cc558a5",
   "metadata": {},
   "outputs": [],
   "source": [
    "# Fill NaNs with the median value of each column\n",
    "X_train.fillna(X_train.median(), inplace=True)\n"
   ]
  },
  {
   "cell_type": "markdown",
   "id": "b64523e6",
   "metadata": {},
   "source": [
    "###  3. Clip the values to a reasonable range, e.g., between -1e6 and 1e6"
   ]
  },
  {
   "cell_type": "code",
   "execution_count": 21,
   "id": "55b2a4e2",
   "metadata": {},
   "outputs": [],
   "source": [
    "# Clip the values to a reasonable range, e.g., between -1e6 and 1e6\n",
    "X_train = X_train.clip(-1e6, 1e6)\n",
    "X_test = X_test.clip(-1e6, 1e6)\n"
   ]
  },
  {
   "cell_type": "markdown",
   "id": "23ebbc9e",
   "metadata": {},
   "source": [
    "### 4. Check for Large Numerical Values"
   ]
  },
  {
   "cell_type": "code",
   "execution_count": 22,
   "id": "2e5c1b5f",
   "metadata": {},
   "outputs": [],
   "source": [
    "from sklearn.preprocessing import StandardScaler\n",
    "\n",
    "# Initialize the scaler\n",
    "scaler = StandardScaler()\n",
    "\n",
    "# Fit and transform the training data\n",
    "X_train_scaled = scaler.fit_transform(X_train)\n",
    "\n",
    "# Transform the test data using the same scaler\n",
    "X_test_scaled = scaler.transform(X_test)\n"
   ]
  },
  {
   "cell_type": "markdown",
   "id": "1081b22e",
   "metadata": {},
   "source": [
    "### 5. Train the model for Goal 1"
   ]
  },
  {
   "cell_type": "code",
   "execution_count": 23,
   "id": "609650b8",
   "metadata": {},
   "outputs": [
    {
     "name": "stdout",
     "output_type": "stream",
     "text": [
      "Mean Absolute Error (MAE): 4503872.13\n",
      "R-squared (R²): 0.55\n"
     ]
    }
   ],
   "source": [
    "# Train the model\n",
    "regressor = LinearRegression()\n",
    "regressor.fit(X_train_scaled, y_train)\n",
    "\n",
    "# Predict on the test set\n",
    "y_pred = regressor.predict(X_test_scaled)\n",
    "\n",
    "# Evaluate the model\n",
    "mae = mean_absolute_error(y_test, y_pred)\n",
    "r2 = r2_score(y_test, y_pred)\n",
    "\n",
    "# Print the evaluation metrics\n",
    "print(f\"Mean Absolute Error (MAE): {mae:.2f}\")\n",
    "print(f\"R-squared (R²): {r2:.2f}\")\n"
   ]
  },
  {
   "cell_type": "markdown",
   "id": "4557275b-999a-4cf0-b6af-9c8eb40a97ff",
   "metadata": {},
   "source": [
    "## Goal 2: Identify Sustainable Land Use Practices\n",
    "Classify land use practices as \"sustainable\" or \"unsustainable.\""
   ]
  },
  {
   "cell_type": "code",
   "execution_count": 2,
   "id": "66d5faa6-eaba-4a6b-8a27-0cdf81788d18",
   "metadata": {},
   "outputs": [
    {
     "ename": "NameError",
     "evalue": "name 'features' is not defined",
     "output_type": "error",
     "traceback": [
      "\u001b[0;31m---------------------------------------------------------------------------\u001b[0m",
      "\u001b[0;31mNameError\u001b[0m                                 Traceback (most recent call last)",
      "Cell \u001b[0;32mIn[2], line 26\u001b[0m\n\u001b[1;32m     23\u001b[0m merged_df[\u001b[38;5;124m'\u001b[39m\u001b[38;5;124msustainable\u001b[39m\u001b[38;5;124m'\u001b[39m] \u001b[38;5;241m=\u001b[39m (merged_df[\u001b[38;5;124m'\u001b[39m\u001b[38;5;124mvalue_prod\u001b[39m\u001b[38;5;124m'\u001b[39m] \u001b[38;5;241m>\u001b[39m merged_df[\u001b[38;5;124m'\u001b[39m\u001b[38;5;124mvalue_prod\u001b[39m\u001b[38;5;124m'\u001b[39m]\u001b[38;5;241m.\u001b[39mmedian())\u001b[38;5;241m.\u001b[39mastype(\u001b[38;5;28mint\u001b[39m)\n\u001b[1;32m     25\u001b[0m \u001b[38;5;66;03m# Train-test split for classification\u001b[39;00m\n\u001b[0;32m---> 26\u001b[0m X \u001b[38;5;241m=\u001b[39m merged_df[\u001b[43mfeatures\u001b[49m]\n\u001b[1;32m     27\u001b[0m y \u001b[38;5;241m=\u001b[39m merged_df[\u001b[38;5;124m'\u001b[39m\u001b[38;5;124msustainable\u001b[39m\u001b[38;5;124m'\u001b[39m]\n\u001b[1;32m     28\u001b[0m X_train, X_test, y_train, y_test \u001b[38;5;241m=\u001b[39m train_test_split(X, y, test_size\u001b[38;5;241m=\u001b[39m\u001b[38;5;241m0.2\u001b[39m, random_state\u001b[38;5;241m=\u001b[39m\u001b[38;5;241m42\u001b[39m)\n",
      "\u001b[0;31mNameError\u001b[0m: name 'features' is not defined"
     ]
    }
   ],
   "source": [
    "import pandas as pd\n",
    "\n",
    "# Load datasets\n",
    "production_df = pd.read_csv('cleaned_fao_data_production_indices_data.csv')\n",
    "land_df = pd.read_csv('cleaned_fao_data_land_data.csv')\n",
    "fertilizer_df = pd.read_csv('cleaned_fao_data_fertilizers_data.csv')\n",
    "\n",
    "# Select only the important columns\n",
    "production_columns = ['country_or_area', 'year', 'value']  # Add other necessary columns if needed\n",
    "land_columns = ['country_or_area', 'year', 'value']  # Adjust based on the important columns for land data\n",
    "fertilizer_columns = ['country_or_area', 'year', 'value']  # Adjust based on the important columns for fertilizer data\n",
    "\n",
    "# Rename 'value' columns for clarity before merging\n",
    "production_df = production_df[production_columns].rename(columns={'value': 'value_prod'})\n",
    "land_df = land_df[land_columns].rename(columns={'value': 'value_land'})\n",
    "fertilizer_df = fertilizer_df[fertilizer_columns].rename(columns={'value': 'value_fert'})\n",
    "\n",
    "# Merge datasets on common columns (country_or_area and year)\n",
    "merged_df = production_df.merge(land_df, on=['country_or_area', 'year'])\n",
    "merged_df = merged_df.merge(fertilizer_df, on=['country_or_area', 'year'])\n",
    "\n",
    "# Create a binary target\n",
    "merged_df['sustainable'] = (merged_df['value_prod'] > merged_df['value_prod'].median()).astype(int)\n",
    "\n",
    "# Train-test split for classification\n",
    "X = merged_df[features]\n",
    "y = merged_df['sustainable']\n",
    "X_train, X_test, y_train, y_test = train_test_split(X, y, test_size=0.2, random_state=42)\n",
    "\n",
    "# Train a Random Forest Classifier\n",
    "from sklearn.ensemble import RandomForestClassifier\n",
    "from sklearn.metrics import classification_report\n",
    "\n",
    "rf_classifier = RandomForestClassifier(random_state=42)\n",
    "rf_classifier.fit(X_train, y_train)\n",
    "\n",
    "# Evaluate the model\n",
    "y_pred = rf_classifier.predict(X_test)\n",
    "print(classification_report(y_test, y_pred))\n"
   ]
  },
  {
   "cell_type": "markdown",
   "id": "1d61fffe-0dfe-4463-9f28-88681c25cb37",
   "metadata": {},
   "source": [
    "## Goal 3: Foprecast Sustainable Agriculture Productivity\n",
    "Build a time-series forecasting model."
   ]
  },
  {
   "cell_type": "code",
   "execution_count": 3,
   "id": "7679a1a6-ca2e-4f83-88bf-1fd6b504332a",
   "metadata": {},
   "outputs": [
    {
     "ename": "ModuleNotFoundError",
     "evalue": "No module named 'statsmodels'",
     "output_type": "error",
     "traceback": [
      "\u001b[0;31m---------------------------------------------------------------------------\u001b[0m",
      "\u001b[0;31mModuleNotFoundError\u001b[0m                       Traceback (most recent call last)",
      "Cell \u001b[0;32mIn[3], line 1\u001b[0m\n\u001b[0;32m----> 1\u001b[0m \u001b[38;5;28;01mfrom\u001b[39;00m \u001b[38;5;21;01mstatsmodels\u001b[39;00m\u001b[38;5;21;01m.\u001b[39;00m\u001b[38;5;21;01mtsa\u001b[39;00m\u001b[38;5;21;01m.\u001b[39;00m\u001b[38;5;21;01mstatespace\u001b[39;00m\u001b[38;5;21;01m.\u001b[39;00m\u001b[38;5;21;01msarimax\u001b[39;00m \u001b[38;5;28;01mimport\u001b[39;00m SARIMAX\n\u001b[1;32m      3\u001b[0m \u001b[38;5;66;03m# Focus on a specific country for time-series modeling\u001b[39;00m\n\u001b[1;32m      4\u001b[0m country_data \u001b[38;5;241m=\u001b[39m merged_df[merged_df[\u001b[38;5;124m'\u001b[39m\u001b[38;5;124mcountry_or_area\u001b[39m\u001b[38;5;124m'\u001b[39m] \u001b[38;5;241m==\u001b[39m \u001b[38;5;124m'\u001b[39m\u001b[38;5;124mIndia\u001b[39m\u001b[38;5;124m'\u001b[39m]\n",
      "\u001b[0;31mModuleNotFoundError\u001b[0m: No module named 'statsmodels'"
     ]
    }
   ],
   "source": [
    "from statsmodels.tsa.statespace.sarimax import SARIMAX\n",
    "\n",
    "# Focus on a specific country for time-series modeling\n",
    "country_data = merged_df[merged_df['country_or_area'] == 'India']\n",
    "\n",
    "# Train a SARIMAX model\n",
    "sarimax_model = SARIMAX(country_data['value_prod'], \n",
    "                        exog=country_data[['value_land', 'value_fert']], \n",
    "                        order=(1, 1, 1), \n",
    "                        seasonal_order=(1, 1, 1, 12))\n",
    "sarimax_results = sarimax_model.fit()\n",
    "\n",
    "# Forecast future productivity\n",
    "forecast = sarimax_results.forecast(steps=12, exog=country_data[['value_land', 'value_fert']].iloc[-12:])\n",
    "print(forecast)"
   ]
  },
  {
   "cell_type": "markdown",
   "id": "3926f0d2-41ba-47c9-add6-7c9c3877000c",
   "metadata": {},
   "source": [
    "# Step 7:Visualize model predictions and feature importance for insights."
   ]
  },
  {
   "cell_type": "code",
   "execution_count": 4,
   "id": "9df03a1b-fbdf-4c35-96b0-025f23c164bd",
   "metadata": {},
   "outputs": [
    {
     "ename": "AttributeError",
     "evalue": "'RandomForestRegressor' object has no attribute 'estimators_'",
     "output_type": "error",
     "traceback": [
      "\u001b[0;31m---------------------------------------------------------------------------\u001b[0m",
      "\u001b[0;31mAttributeError\u001b[0m                            Traceback (most recent call last)",
      "Cell \u001b[0;32mIn[4], line 4\u001b[0m\n\u001b[1;32m      1\u001b[0m \u001b[38;5;28;01mimport\u001b[39;00m \u001b[38;5;21;01mmatplotlib\u001b[39;00m\u001b[38;5;21;01m.\u001b[39;00m\u001b[38;5;21;01mpyplot\u001b[39;00m \u001b[38;5;28;01mas\u001b[39;00m \u001b[38;5;21;01mplt\u001b[39;00m\n\u001b[1;32m      3\u001b[0m \u001b[38;5;66;03m# Feature importance from Random Forest\u001b[39;00m\n\u001b[0;32m----> 4\u001b[0m importances \u001b[38;5;241m=\u001b[39m \u001b[43mrf_model\u001b[49m\u001b[38;5;241;43m.\u001b[39;49m\u001b[43mfeature_importances_\u001b[49m\n\u001b[1;32m      5\u001b[0m plt\u001b[38;5;241m.\u001b[39mbarh(features, importances)\n\u001b[1;32m      6\u001b[0m plt\u001b[38;5;241m.\u001b[39mtitle(\u001b[38;5;124m\"\u001b[39m\u001b[38;5;124mFeature Importance\u001b[39m\u001b[38;5;124m\"\u001b[39m)\n",
      "File \u001b[0;32m~/Documents/CSIS-44608/datafun-04-notebooks/.venv/lib/python3.11/site-packages/sklearn/ensemble/_forest.py:629\u001b[0m, in \u001b[0;36mBaseForest.feature_importances_\u001b[0;34m(self)\u001b[0m\n\u001b[1;32m    606\u001b[0m \u001b[38;5;250m\u001b[39m\u001b[38;5;124;03m\"\"\"\u001b[39;00m\n\u001b[1;32m    607\u001b[0m \u001b[38;5;124;03mThe impurity-based feature importances.\u001b[39;00m\n\u001b[1;32m    608\u001b[0m \n\u001b[0;32m   (...)\u001b[0m\n\u001b[1;32m    623\u001b[0m \u001b[38;5;124;03m    array of zeros.\u001b[39;00m\n\u001b[1;32m    624\u001b[0m \u001b[38;5;124;03m\"\"\"\u001b[39;00m\n\u001b[1;32m    625\u001b[0m check_is_fitted(\u001b[38;5;28mself\u001b[39m)\n\u001b[1;32m    627\u001b[0m all_importances \u001b[38;5;241m=\u001b[39m Parallel(n_jobs\u001b[38;5;241m=\u001b[39m\u001b[38;5;28mself\u001b[39m\u001b[38;5;241m.\u001b[39mn_jobs, prefer\u001b[38;5;241m=\u001b[39m\u001b[38;5;124m\"\u001b[39m\u001b[38;5;124mthreads\u001b[39m\u001b[38;5;124m\"\u001b[39m)(\n\u001b[1;32m    628\u001b[0m     delayed(\u001b[38;5;28mgetattr\u001b[39m)(tree, \u001b[38;5;124m\"\u001b[39m\u001b[38;5;124mfeature_importances_\u001b[39m\u001b[38;5;124m\"\u001b[39m)\n\u001b[0;32m--> 629\u001b[0m     \u001b[38;5;28;01mfor\u001b[39;00m tree \u001b[38;5;129;01min\u001b[39;00m \u001b[38;5;28;43mself\u001b[39;49m\u001b[38;5;241;43m.\u001b[39;49m\u001b[43mestimators_\u001b[49m\n\u001b[1;32m    630\u001b[0m     \u001b[38;5;28;01mif\u001b[39;00m tree\u001b[38;5;241m.\u001b[39mtree_\u001b[38;5;241m.\u001b[39mnode_count \u001b[38;5;241m>\u001b[39m \u001b[38;5;241m1\u001b[39m\n\u001b[1;32m    631\u001b[0m )\n\u001b[1;32m    633\u001b[0m \u001b[38;5;28;01mif\u001b[39;00m \u001b[38;5;129;01mnot\u001b[39;00m all_importances:\n\u001b[1;32m    634\u001b[0m     \u001b[38;5;28;01mreturn\u001b[39;00m np\u001b[38;5;241m.\u001b[39mzeros(\u001b[38;5;28mself\u001b[39m\u001b[38;5;241m.\u001b[39mn_features_in_, dtype\u001b[38;5;241m=\u001b[39mnp\u001b[38;5;241m.\u001b[39mfloat64)\n",
      "\u001b[0;31mAttributeError\u001b[0m: 'RandomForestRegressor' object has no attribute 'estimators_'"
     ]
    }
   ],
   "source": [
    "import matplotlib.pyplot as plt\n",
    "\n",
    "# Feature importance from Random Forest\n",
    "importances = rf_model.feature_importances_\n",
    "plt.barh(features, importances)\n",
    "plt.title(\"Feature Importance\")\n",
    "plt.show()\n",
    "\n",
    "# Compare actual vs predicted productivity\n",
    "plt.plot(y_test.values, label=\"Actual\")\n",
    "plt.plot(y_pred, label=\"Predicted\")\n",
    "plt.legend()\n",
    "plt.title(\"Actual vs Predicted Productivity\")\n",
    "plt.show()"
   ]
  }
 ],
 "metadata": {
  "kernelspec": {
   "display_name": ".venv",
   "language": "python",
   "name": "python3"
  },
  "language_info": {
   "codemirror_mode": {
    "name": "ipython",
    "version": 3
   },
   "file_extension": ".py",
   "mimetype": "text/x-python",
   "name": "python",
   "nbconvert_exporter": "python",
   "pygments_lexer": "ipython3",
   "version": "3.11.5"
  }
 },
 "nbformat": 4,
 "nbformat_minor": 5
}
